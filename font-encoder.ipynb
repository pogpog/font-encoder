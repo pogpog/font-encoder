{
 "cells": [
  {
   "cell_type": "code",
   "execution_count": 4,
   "id": "a1433d70-d4e3-4d41-970f-cdf3f2c4957c",
   "metadata": {},
   "outputs": [
    {
     "name": "stdout",
     "output_type": "stream",
     "text": [
      "The Shape of the image is: (8, 200, 4)\n",
      "The image as array is:\n",
      "[[1. 1. 1. ... 1. 1. 1.]\n",
      " [1. 1. 0. ... 0. 0. 1.]\n",
      " [1. 0. 1. ... 1. 0. 1.]\n",
      " ...\n",
      " [1. 0. 1. ... 1. 0. 1.]\n",
      " [1. 0. 1. ... 1. 0. 1.]\n",
      " [1. 1. 1. ... 1. 1. 1.]]\n"
     ]
    }
   ],
   "source": [
    "import matplotlib.image as image\n",
    "\n",
    "img=image.imread('fonts/font-map.png')\n",
    "print('The Shape of the image is:',img.shape)\n",
    "print('The image as array is:')\n",
    "# print(img)\n",
    "row1 = img[0][:,0]\n",
    "new_img = img[:,:,0]\n",
    "print(new_img)"
   ]
  },
  {
   "cell_type": "code",
   "execution_count": null,
   "id": "9d48de0c-2b09-4f26-bff6-1c9b7f1542e5",
   "metadata": {},
   "outputs": [],
   "source": []
  }
 ],
 "metadata": {
  "kernelspec": {
   "display_name": "Python [conda env:computervision]",
   "language": "python",
   "name": "conda-env-computervision-py"
  },
  "language_info": {
   "codemirror_mode": {
    "name": "ipython",
    "version": 3
   },
   "file_extension": ".py",
   "mimetype": "text/x-python",
   "name": "python",
   "nbconvert_exporter": "python",
   "pygments_lexer": "ipython3",
   "version": "3.10.4"
  }
 },
 "nbformat": 4,
 "nbformat_minor": 5
}
