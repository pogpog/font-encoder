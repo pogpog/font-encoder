{
 "cells": [
  {
   "cell_type": "code",
   "execution_count": null,
   "id": "a1433d70-d4e3-4d41-970f-cdf3f2c4957c",
   "metadata": {},
   "outputs": [],
   "source": [
    "import matplotlib.image as image\n",
    "\n",
    "img=image.imread('fonts/font-map.png')\n",
    "print('The Shape of the image is:',img.shape)\n",
    "print('The image as array is:')\n",
    "# print(img)\n",
    "row1 = img[0][:,0]\n",
    "print(row1)"
   ]
  },
  {
   "cell_type": "code",
   "execution_count": null,
   "id": "9d48de0c-2b09-4f26-bff6-1c9b7f1542e5",
   "metadata": {},
   "outputs": [],
   "source": [
    "import numpy as np\n",
    "from skdata.mnist.views import OfficialImageClassification\n",
    "from matplotlib import pyplot as plt\n",
    "from PIL import Image                                                            \n",
    "import glob\n",
    "import cv2\n",
    "\n",
    "im_path = 'fonts/font-map.png'\n",
    "\n",
    "x_data = np.array( [np.array(cv2.imread(im_path)) for i in range(len(im_path))] )\n",
    "print x_data.shape"
   ]
  }
 ],
 "metadata": {
  "kernelspec": {
   "display_name": "Python 3 (ipykernel)",
   "language": "python",
   "name": "python3"
  },
  "language_info": {
   "codemirror_mode": {
    "name": "ipython",
    "version": 3
   },
   "file_extension": ".py",
   "mimetype": "text/x-python",
   "name": "python",
   "nbconvert_exporter": "python",
   "pygments_lexer": "ipython3",
   "version": "3.9.7"
  }
 },
 "nbformat": 4,
 "nbformat_minor": 5
}
